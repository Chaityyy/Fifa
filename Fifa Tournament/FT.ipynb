{
 "cells": [
  {
   "cell_type": "code",
   "execution_count": 1,
   "metadata": {},
   "outputs": [],
   "source": [
    "import random\n",
    "def get_name(teams, lost_team):\n",
    "    for ele in teams:\n",
    "        if lost_team in teams[ele]:\n",
    "            return ele"
   ]
  },
  {
   "cell_type": "code",
   "execution_count": null,
   "metadata": {},
   "outputs": [],
   "source": [
    "def gen_match(num_players, num_teams, mapp, teams):\n",
    "    \n",
    "    status = {}\n",
    "    for ele in teams:\n",
    "        status[ele] = num_teams\n",
    "        \n",
    "    rem_players = [ele for ele in teams]\n",
    "    message = [\"NIKAL LAVDE\", \"KEH RAHE THE JYADA GAAND NA PHULAO\", \"MKC BKL\", \"BETA TUMNSE NA HO PAYEGA\",\n",
    "               \"BHAK BHOSDIKEEE\", \"HAG DIYA NA :(\", \"JYADA CHAUD RAHE THE\", \n",
    "               \"CHOTE LUND WAALO KO TOH WAISE HI HARNA THA\", \"CHALO BETA MAANFI MAANGO BAAP SE\", \n",
    "               \"ISSE BHADIYA TOH GAAND HI MARWA LETA\", \"CHI CHI GHANGHOOOR BEIZZATI, MAIN TOH NHI SEHTA\",\n",
    "               \"NUNNI HOTI NHI KHADI BATAIN KARWALO BADI BADI\"]\n",
    "\n",
    "    while (len(rem_players) > 1):\n",
    "        l = len(rem_players)\n",
    "        y = random.randint(0,l-1)\n",
    "        z = random.randint(0,l-1)\n",
    "        while y==z:\n",
    "            y = random.randint(0,l-1)\n",
    "            z = random.randint(0,l-1)\n",
    "                \n",
    "        print(rem_players[y], \"Vs\", rem_players[z])\n",
    "        print(\"Kaun bhadwa haara madarchod (Enter the name of team):\", end=\" \")\n",
    "        lost_team = input()\n",
    "        player = get_name(teams, lost_team)\n",
    "        status[player] -= 1\n",
    "        if status[player] == 0:\n",
    "            rem_players.remove(player)\n",
    "            lm = len(message)\n",
    "            if lm:\n",
    "                x = random.randint(0, lm-1)\n",
    "                print()\n",
    "                print(\"   MITR\", player, message.pop(x))\n",
    "                print()\n",
    "        else:\n",
    "            print()\n",
    "    \n",
    "    print(\"HAAN CHAL CHAL AB JYADA KHUSH BHI MAT HO, CHUTIYA\", rem_players[0], \"BHADWA SAALA\")\n",
    "    print()\n",
    "    print (\"   EK AUR KRNA HAI KYA, ISS BAAR MITR\", rem_players[0] ,\"KI MAA CHODI JAAYEGI\")"
   ]
  },
  {
   "cell_type": "code",
   "execution_count": null,
   "metadata": {},
   "outputs": [],
   "source": [
    "def gen_teams():\n",
    "    print (\"Enter the number of Players : \")\n",
    "    num_players = int(input())\n",
    "    print()\n",
    "\n",
    "    print (\"Please enter the Player names\")\n",
    "    teams = {}\n",
    "    mapp = []\n",
    "    for i in range(num_players):\n",
    "        print(\"Name of Player\", str(i+1) + \":\", end=\" \")\n",
    "        s = input()\n",
    "        teams[s] = []\n",
    "        mapp.append(s)\n",
    "\n",
    "    print()\n",
    "    print (\"How many teams does each Player will have? \")\n",
    "    num_teams = int(input())\n",
    "    print()\n",
    "\n",
    "    check = {}\n",
    "    for _ in range(num_teams*num_players):\n",
    "        x = random.randint(0,num_players-1)\n",
    "        while (mapp[x] in check):\n",
    "            x = random.randint(0,num_players-1)\n",
    "            \n",
    "        print(\"Hey\", mapp[x], \", What do you like to pick?\", end=\" \")\n",
    "        teams[mapp[x]].append(input())\n",
    "        \n",
    "        if len(teams[mapp[x]]) == num_teams:\n",
    "            check[mapp[x]] = True\n",
    "        \n",
    "    print()\n",
    "    return num_players, num_teams, mapp, teams"
   ]
  },
  {
   "cell_type": "code",
   "execution_count": null,
   "metadata": {},
   "outputs": [],
   "source": [
    "flag = True\n",
    "while flag:\n",
    "    x = gen_teams()\n",
    "    gen_match(x[0], x[1], x[2], x[3])\n",
    "    str = input()\n",
    "    if str != \"Y\" and str != \"y\":\n",
    "        flag = False\n",
    "    else:\n",
    "        print()"
   ]
  },
  {
   "cell_type": "code",
   "execution_count": null,
   "metadata": {},
   "outputs": [],
   "source": []
  }
 ],
 "metadata": {
  "kernelspec": {
   "display_name": "Python 3",
   "language": "python",
   "name": "python3"
  },
  "language_info": {
   "codemirror_mode": {
    "name": "ipython",
    "version": 3
   },
   "file_extension": ".py",
   "mimetype": "text/x-python",
   "name": "python",
   "nbconvert_exporter": "python",
   "pygments_lexer": "ipython3",
   "version": "3.8.5"
  }
 },
 "nbformat": 4,
 "nbformat_minor": 4
}
